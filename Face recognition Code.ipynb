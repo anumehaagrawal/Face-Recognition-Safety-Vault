{
 "cells": [
  {
   "cell_type": "code",
   "execution_count": 76,
   "metadata": {},
   "outputs": [],
   "source": [
    "import cv2\n",
    "import numpy as np\n",
    "import os\n",
    "from PIL import Image\n"
   ]
  },
  {
   "cell_type": "markdown",
   "metadata": {},
   "source": [
    "### Creating Cascade for face detection"
   ]
  },
  {
   "cell_type": "code",
   "execution_count": 77,
   "metadata": {},
   "outputs": [],
   "source": [
    "cascadePath = \"haarcascade_frontalface_default.xml\"\n",
    "faceCascade = cv2.CascadeClassifier(cascadePath)\n"
   ]
  },
  {
   "cell_type": "markdown",
   "metadata": {},
   "source": [
    "### Creating face recognition object using LBPH"
   ]
  },
  {
   "cell_type": "code",
   "execution_count": 78,
   "metadata": {},
   "outputs": [],
   "source": [
    "recognizer = cv2.face.LBPHFaceRecognizer_create()\n",
    "images=[]\n",
    "labels=[]"
   ]
  },
  {
   "cell_type": "code",
   "execution_count": 79,
   "metadata": {},
   "outputs": [],
   "source": [
    "def prepare_data(directory_name):\n",
    "    dirs = os.listdir(directory_name)\n",
    "    \n",
    "    print(dirs)\n",
    "    for i in dirs:\n",
    "\n",
    "        label=i[1]\n",
    "        print(label)\n",
    "        sub_path = directory_name + \"/\" + i\n",
    "        sub_img = os.listdir(sub_path)\n",
    "        if(len(sub_img)>0):\n",
    "            for name in sub_img: \n",
    "\n",
    "                image_pil = Image.open(directory_name + \"/\" + i + \"/\" +name).convert('L')\n",
    "                image = np.array(image_pil, 'uint8')\n",
    "                faces=faceCascade.detectMultiScale(image)\n",
    "                count=0\n",
    "                if faces is not None:\n",
    "                    count=count+1\n",
    "                    (x,y,h,w)=faces[0]\n",
    "                    images.append(image[y:y+h,x:x+w])\n",
    "                    #print(count)\n",
    "                    labels.append(1)\n",
    "\n",
    "                    #cv2.imshow(\"add\",image[y:y+h,x:x+w])\n",
    "                    #cv2.waitKey(50)\n",
    "\n",
    " \n",
    "\n",
    "        "
   ]
  },
  {
   "cell_type": "code",
   "execution_count": 80,
   "metadata": {},
   "outputs": [
    {
     "name": "stdout",
     "output_type": "stream",
     "text": [
      "['s1', 's2']\n",
      "1\n",
      "2\n",
      "[1, 1, 1, 1, 1, 1]\n"
     ]
    }
   ],
   "source": [
    "prepare_data('training_data')\n",
    "print(labels)"
   ]
  },
  {
   "cell_type": "code",
   "execution_count": 82,
   "metadata": {},
   "outputs": [],
   "source": [
    "recognizer.train(images,np.array(labels))"
   ]
  },
  {
   "cell_type": "code",
   "execution_count": null,
   "metadata": {},
   "outputs": [],
   "source": []
  }
 ],
 "metadata": {
  "kernelspec": {
   "display_name": "Python 3",
   "language": "python",
   "name": "python3"
  },
  "language_info": {
   "codemirror_mode": {
    "name": "ipython",
    "version": 3
   },
   "file_extension": ".py",
   "mimetype": "text/x-python",
   "name": "python",
   "nbconvert_exporter": "python",
   "pygments_lexer": "ipython3",
   "version": "3.6.2"
  }
 },
 "nbformat": 4,
 "nbformat_minor": 2
}
